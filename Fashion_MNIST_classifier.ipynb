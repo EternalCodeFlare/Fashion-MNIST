{
  "nbformat": 4,
  "nbformat_minor": 0,
  "metadata": {
    "colab": {
      "name": "Fashion MNIST classifier.ipynb",
      "provenance": [],
      "collapsed_sections": []
    },
    "kernelspec": {
      "name": "python3",
      "display_name": "Python 3"
    },
    "accelerator": "GPU"
  },
  "cells": [
    {
      "cell_type": "markdown",
      "metadata": {
        "id": "JjtOelGOG09O"
      },
      "source": [
        "## Libraries and dataset importing"
      ]
    },
    {
      "cell_type": "code",
      "metadata": {
        "id": "kcXsXQBKEMhA"
      },
      "source": [
        "import tensorflow as tf\r\n",
        "from tensorflow import keras\r\n",
        "import numpy as np"
      ],
      "execution_count": 1,
      "outputs": []
    },
    {
      "cell_type": "code",
      "metadata": {
        "id": "tbLhEjRgHDO4"
      },
      "source": [
        "# Get the dataset and create the training and validation directories\r\n",
        "\r\n",
        "fashion_mnist = keras.datasets.fashion_mnist\r\n",
        "(x_train_full, y_train_full), (x_test, y_test) = fashion_mnist.load_data()"
      ],
      "execution_count": 2,
      "outputs": []
    },
    {
      "cell_type": "code",
      "metadata": {
        "colab": {
          "base_uri": "https://localhost:8080/"
        },
        "id": "iseJtp85HV0M",
        "outputId": "c104589e-5f35-4332-a0e8-e8eab6dfe22e"
      },
      "source": [
        "x_train_full.shape # Means 60000 images of size (28 x 28) each"
      ],
      "execution_count": 3,
      "outputs": [
        {
          "output_type": "execute_result",
          "data": {
            "text/plain": [
              "(60000, 28, 28)"
            ]
          },
          "metadata": {
            "tags": []
          },
          "execution_count": 3
        }
      ]
    },
    {
      "cell_type": "code",
      "metadata": {
        "id": "pRmMxR-4HuRd"
      },
      "source": [
        "x_valid, x_train = x_train_full[:5000]/255.0, x_train_full[5000:]/255.0\r\n",
        "y_valid, y_train = y_train_full[:5000], y_train_full[5000:]"
      ],
      "execution_count": 4,
      "outputs": []
    },
    {
      "cell_type": "code",
      "metadata": {
        "id": "tU27Hu9lIcjZ"
      },
      "source": [
        "class_names = [\"T-shirt/top\", \"Trouser\", \"Pullover\", \"Dress\", \"Coat\", \"Sandal\", \"Shirt\", \"Sneaker\", \"Bag\", \"Ankle boot\"]"
      ],
      "execution_count": 5,
      "outputs": []
    },
    {
      "cell_type": "markdown",
      "metadata": {
        "id": "QS_koYFQGw5s"
      },
      "source": [
        "## Model development and Analysis"
      ]
    },
    {
      "cell_type": "code",
      "metadata": {
        "id": "9WV4jejGI-rh"
      },
      "source": [
        "model = keras.models.Sequential()\r\n",
        "model.add(keras.layers.Flatten(input_shape=[28, 28]))\r\n",
        "model.add(keras.layers.Dense(300, activation='relu'))\r\n",
        "model.add(keras.layers.Dense(100, activation='relu'))\r\n",
        "model.add(keras.layers.Dense(10, activation=\"softmax\"))"
      ],
      "execution_count": 6,
      "outputs": []
    },
    {
      "cell_type": "code",
      "metadata": {
        "colab": {
          "base_uri": "https://localhost:8080/"
        },
        "id": "8d9tk4kBJC2w",
        "outputId": "49bb0c83-83dc-4c36-99fa-3f1f6ede11f1"
      },
      "source": [
        "model.summary()"
      ],
      "execution_count": 7,
      "outputs": [
        {
          "output_type": "stream",
          "text": [
            "Model: \"sequential\"\n",
            "_________________________________________________________________\n",
            "Layer (type)                 Output Shape              Param #   \n",
            "=================================================================\n",
            "flatten (Flatten)            (None, 784)               0         \n",
            "_________________________________________________________________\n",
            "dense (Dense)                (None, 300)               235500    \n",
            "_________________________________________________________________\n",
            "dense_1 (Dense)              (None, 100)               30100     \n",
            "_________________________________________________________________\n",
            "dense_2 (Dense)              (None, 10)                1010      \n",
            "=================================================================\n",
            "Total params: 266,610\n",
            "Trainable params: 266,610\n",
            "Non-trainable params: 0\n",
            "_________________________________________________________________\n"
          ],
          "name": "stdout"
        }
      ]
    },
    {
      "cell_type": "code",
      "metadata": {
        "colab": {
          "base_uri": "https://localhost:8080/"
        },
        "id": "PrPxeCBhK1_R",
        "outputId": "5ad03131-5b71-49cd-c456-ae246cdaaa72"
      },
      "source": [
        "# Get the model layers\r\n",
        "model.layers"
      ],
      "execution_count": 8,
      "outputs": [
        {
          "output_type": "execute_result",
          "data": {
            "text/plain": [
              "[<tensorflow.python.keras.layers.core.Flatten at 0x7f60a99a6110>,\n",
              " <tensorflow.python.keras.layers.core.Dense at 0x7f60703cdfd0>,\n",
              " <tensorflow.python.keras.layers.core.Dense at 0x7f60702a6710>,\n",
              " <tensorflow.python.keras.layers.core.Dense at 0x7f60145efd90>]"
            ]
          },
          "metadata": {
            "tags": []
          },
          "execution_count": 8
        }
      ]
    },
    {
      "cell_type": "code",
      "metadata": {
        "colab": {
          "base_uri": "https://localhost:8080/"
        },
        "id": "tY6_Te3SNZxt",
        "outputId": "873d1eb8-f1a3-435b-c7c8-9a5462a43d05"
      },
      "source": [
        "weights, biases = model.layers[1].get_weights()\r\n",
        "print(weights)"
      ],
      "execution_count": 9,
      "outputs": [
        {
          "output_type": "stream",
          "text": [
            "[[ 0.03220437 -0.03761706 -0.05626007 ... -0.06812624  0.02763779\n",
            "  -0.04436984]\n",
            " [ 0.06387395  0.00367808  0.00726072 ...  0.02118006 -0.04197972\n",
            "   0.05164386]\n",
            " [ 0.05391754  0.00035477 -0.07125422 ... -0.00984559 -0.02392947\n",
            "  -0.06029352]\n",
            " ...\n",
            " [ 0.03604501 -0.00410864  0.04155029 ... -0.06073754 -0.02719728\n",
            "   0.06368119]\n",
            " [-0.0421842  -0.05481084  0.00565694 ...  0.01617578  0.06135632\n",
            "  -0.01478129]\n",
            " [-0.0092706  -0.04417304 -0.06695823 ... -0.03372349 -0.01429329\n",
            "  -0.06990976]]\n"
          ],
          "name": "stdout"
        }
      ]
    },
    {
      "cell_type": "code",
      "metadata": {
        "colab": {
          "base_uri": "https://localhost:8080/"
        },
        "id": "uxm9W99XEKcx",
        "outputId": "830125d8-467e-4e6d-fcde-701e131ace16"
      },
      "source": [
        "weights.shape"
      ],
      "execution_count": 10,
      "outputs": [
        {
          "output_type": "execute_result",
          "data": {
            "text/plain": [
              "(784, 300)"
            ]
          },
          "metadata": {
            "tags": []
          },
          "execution_count": 10
        }
      ]
    },
    {
      "cell_type": "code",
      "metadata": {
        "colab": {
          "base_uri": "https://localhost:8080/"
        },
        "id": "G6SGq16qEM5p",
        "outputId": "b79c79dd-2a46-4a18-ada3-3743e27ec139"
      },
      "source": [
        "biases.shape"
      ],
      "execution_count": 11,
      "outputs": [
        {
          "output_type": "execute_result",
          "data": {
            "text/plain": [
              "(300,)"
            ]
          },
          "metadata": {
            "tags": []
          },
          "execution_count": 11
        }
      ]
    },
    {
      "cell_type": "markdown",
      "metadata": {
        "id": "EKvYJyL5GsPy"
      },
      "source": [
        "## Model compilation and Training"
      ]
    },
    {
      "cell_type": "code",
      "metadata": {
        "id": "KwFYcyScGutk"
      },
      "source": [
        "model.compile(loss=keras.losses.sparse_categorical_crossentropy,\r\n",
        "              optimizer = keras.optimizers.SGD(),\r\n",
        "              metrics=['accuracy'])"
      ],
      "execution_count": 12,
      "outputs": []
    },
    {
      "cell_type": "code",
      "metadata": {
        "colab": {
          "base_uri": "https://localhost:8080/"
        },
        "id": "JJyTXJ5PHWmg",
        "outputId": "dc5a8787-f614-44d7-e6ab-54cdf8358020"
      },
      "source": [
        "history = model.fit(x_train, y_train, epochs=30, validation_data=(x_valid, y_valid))"
      ],
      "execution_count": 13,
      "outputs": [
        {
          "output_type": "stream",
          "text": [
            "Epoch 1/30\n",
            "1719/1719 [==============================] - 4s 2ms/step - loss: 0.9841 - accuracy: 0.6738 - val_loss: 0.5128 - val_accuracy: 0.8314\n",
            "Epoch 2/30\n",
            "1719/1719 [==============================] - 3s 2ms/step - loss: 0.5045 - accuracy: 0.8255 - val_loss: 0.4399 - val_accuracy: 0.8504\n",
            "Epoch 3/30\n",
            "1719/1719 [==============================] - 3s 2ms/step - loss: 0.4536 - accuracy: 0.8435 - val_loss: 0.4140 - val_accuracy: 0.8630\n",
            "Epoch 4/30\n",
            "1719/1719 [==============================] - 3s 2ms/step - loss: 0.4166 - accuracy: 0.8543 - val_loss: 0.4080 - val_accuracy: 0.8602\n",
            "Epoch 5/30\n",
            "1719/1719 [==============================] - 3s 2ms/step - loss: 0.3923 - accuracy: 0.8612 - val_loss: 0.3953 - val_accuracy: 0.8650\n",
            "Epoch 6/30\n",
            "1719/1719 [==============================] - 3s 2ms/step - loss: 0.3770 - accuracy: 0.8675 - val_loss: 0.3747 - val_accuracy: 0.8718\n",
            "Epoch 7/30\n",
            "1719/1719 [==============================] - 3s 2ms/step - loss: 0.3709 - accuracy: 0.8682 - val_loss: 0.3710 - val_accuracy: 0.8676\n",
            "Epoch 8/30\n",
            "1719/1719 [==============================] - 3s 2ms/step - loss: 0.3523 - accuracy: 0.8743 - val_loss: 0.3570 - val_accuracy: 0.8750\n",
            "Epoch 9/30\n",
            "1719/1719 [==============================] - 3s 2ms/step - loss: 0.3453 - accuracy: 0.8793 - val_loss: 0.3734 - val_accuracy: 0.8628\n",
            "Epoch 10/30\n",
            "1719/1719 [==============================] - 3s 2ms/step - loss: 0.3341 - accuracy: 0.8793 - val_loss: 0.3497 - val_accuracy: 0.8796\n",
            "Epoch 11/30\n",
            "1719/1719 [==============================] - 3s 2ms/step - loss: 0.3249 - accuracy: 0.8840 - val_loss: 0.3355 - val_accuracy: 0.8846\n",
            "Epoch 12/30\n",
            "1719/1719 [==============================] - 3s 2ms/step - loss: 0.3181 - accuracy: 0.8862 - val_loss: 0.3402 - val_accuracy: 0.8806\n",
            "Epoch 13/30\n",
            "1719/1719 [==============================] - 3s 2ms/step - loss: 0.3146 - accuracy: 0.8867 - val_loss: 0.3379 - val_accuracy: 0.8802\n",
            "Epoch 14/30\n",
            "1719/1719 [==============================] - 3s 2ms/step - loss: 0.3062 - accuracy: 0.8900 - val_loss: 0.3452 - val_accuracy: 0.8810\n",
            "Epoch 15/30\n",
            "1719/1719 [==============================] - 3s 2ms/step - loss: 0.2963 - accuracy: 0.8925 - val_loss: 0.3228 - val_accuracy: 0.8850\n",
            "Epoch 16/30\n",
            "1719/1719 [==============================] - 3s 2ms/step - loss: 0.2937 - accuracy: 0.8949 - val_loss: 0.3298 - val_accuracy: 0.8778\n",
            "Epoch 17/30\n",
            "1719/1719 [==============================] - 3s 2ms/step - loss: 0.2782 - accuracy: 0.9004 - val_loss: 0.3156 - val_accuracy: 0.8840\n",
            "Epoch 18/30\n",
            "1719/1719 [==============================] - 3s 2ms/step - loss: 0.2770 - accuracy: 0.9014 - val_loss: 0.3181 - val_accuracy: 0.8868\n",
            "Epoch 19/30\n",
            "1719/1719 [==============================] - 3s 2ms/step - loss: 0.2740 - accuracy: 0.9033 - val_loss: 0.3293 - val_accuracy: 0.8832\n",
            "Epoch 20/30\n",
            "1719/1719 [==============================] - 3s 2ms/step - loss: 0.2666 - accuracy: 0.9040 - val_loss: 0.3133 - val_accuracy: 0.8870\n",
            "Epoch 21/30\n",
            "1719/1719 [==============================] - 3s 2ms/step - loss: 0.2620 - accuracy: 0.9057 - val_loss: 0.3084 - val_accuracy: 0.8894\n",
            "Epoch 22/30\n",
            "1719/1719 [==============================] - 3s 2ms/step - loss: 0.2560 - accuracy: 0.9067 - val_loss: 0.3035 - val_accuracy: 0.8890\n",
            "Epoch 23/30\n",
            "1719/1719 [==============================] - 3s 2ms/step - loss: 0.2509 - accuracy: 0.9100 - val_loss: 0.3050 - val_accuracy: 0.8920\n",
            "Epoch 24/30\n",
            "1719/1719 [==============================] - 3s 2ms/step - loss: 0.2493 - accuracy: 0.9109 - val_loss: 0.3137 - val_accuracy: 0.8844\n",
            "Epoch 25/30\n",
            "1719/1719 [==============================] - 3s 2ms/step - loss: 0.2429 - accuracy: 0.9126 - val_loss: 0.2995 - val_accuracy: 0.8914\n",
            "Epoch 26/30\n",
            "1719/1719 [==============================] - 3s 2ms/step - loss: 0.2434 - accuracy: 0.9124 - val_loss: 0.3009 - val_accuracy: 0.8880\n",
            "Epoch 27/30\n",
            "1719/1719 [==============================] - 3s 2ms/step - loss: 0.2313 - accuracy: 0.9150 - val_loss: 0.3044 - val_accuracy: 0.8908\n",
            "Epoch 28/30\n",
            "1719/1719 [==============================] - 3s 2ms/step - loss: 0.2353 - accuracy: 0.9163 - val_loss: 0.2916 - val_accuracy: 0.8970\n",
            "Epoch 29/30\n",
            "1719/1719 [==============================] - 3s 2ms/step - loss: 0.2307 - accuracy: 0.9181 - val_loss: 0.2927 - val_accuracy: 0.8972\n",
            "Epoch 30/30\n",
            "1719/1719 [==============================] - 3s 2ms/step - loss: 0.2221 - accuracy: 0.9202 - val_loss: 0.2855 - val_accuracy: 0.8974\n"
          ],
          "name": "stdout"
        }
      ]
    },
    {
      "cell_type": "code",
      "metadata": {
        "colab": {
          "base_uri": "https://localhost:8080/"
        },
        "id": "LaO51IhDKure",
        "outputId": "ddc2896a-9fd1-4b74-d682-17e222b5f75f"
      },
      "source": [
        "history.history.keys()"
      ],
      "execution_count": 15,
      "outputs": [
        {
          "output_type": "execute_result",
          "data": {
            "text/plain": [
              "dict_keys(['loss', 'accuracy', 'val_loss', 'val_accuracy'])"
            ]
          },
          "metadata": {
            "tags": []
          },
          "execution_count": 15
        }
      ]
    },
    {
      "cell_type": "markdown",
      "metadata": {
        "id": "Rh0JcgnwMeKT"
      },
      "source": [
        "## Visualize the training process"
      ]
    },
    {
      "cell_type": "code",
      "metadata": {
        "id": "r9FN2eK5MjdD"
      },
      "source": [
        "import pandas as pd\r\n",
        "import matplotlib.pyplot as plt"
      ],
      "execution_count": 16,
      "outputs": []
    },
    {
      "cell_type": "code",
      "metadata": {
        "colab": {
          "base_uri": "https://localhost:8080/",
          "height": 324
        },
        "id": "lPeqe7ATNpFd",
        "outputId": "2c2260fe-86bd-468b-f88e-14dcc07bd742"
      },
      "source": [
        "pd.DataFrame(history.history).plot(figsize=(8, 5)) # 8- Length and 5 - height\r\n",
        "plt.grid(True)\r\n",
        "plt.gca().set_ylim(0, 1) # Set the vertical range to [0 - 1]\r\n",
        "plt.show()"
      ],
      "execution_count": 18,
      "outputs": [
        {
          "output_type": "display_data",
          "data": {
            "image/png": "[encoded data removed]",
            "text/plain": [
              "<Figure size 576x360 with 1 Axes>"
            ]
          },
          "metadata": {
            "tags": [],
            "needs_background": "light"
          }
        }
      ]
    },
    {
      "cell_type": "code",
      "metadata": {
        "id": "bltWfTUYOHiD"
      },
      "source": [
        ""
      ],
      "execution_count": null,
      "outputs": []
    },
    {
      "cell_type": "markdown",
      "metadata": {
        "id": "4JzIk0O6O84C"
      },
      "source": [
        "## Evaluate the model"
      ]
    },
    {
      "cell_type": "code",
      "metadata": {
        "colab": {
          "base_uri": "https://localhost:8080/"
        },
        "id": "Qj3Fc9NJO-uJ",
        "outputId": "0ce7041d-1cb0-4ef4-9f96-14a327421387"
      },
      "source": [
        "model.evaluate(x_test, y_test)"
      ],
      "execution_count": 19,
      "outputs": [
        {
          "output_type": "stream",
          "text": [
            "313/313 [==============================] - 1s 2ms/step - loss: 69.7090 - accuracy: 0.8340\n"
          ],
          "name": "stdout"
        },
        {
          "output_type": "execute_result",
          "data": {
            "text/plain": [
              "[69.70899200439453, 0.8339999914169312]"
            ]
          },
          "metadata": {
            "tags": []
          },
          "execution_count": 19
        }
      ]
    },
    {
      "cell_type": "code",
      "metadata": {
        "colab": {
          "base_uri": "https://localhost:8080/"
        },
        "id": "yotduU2pPBrr",
        "outputId": "5811f3ab-3e46-43f1-d539-3cfd92023205"
      },
      "source": [
        "x_new = x_test[:3]\r\n",
        "y_proba = model.predict(x_new)\r\n",
        "y_proba.round(2)"
      ],
      "execution_count": 20,
      "outputs": [
        {
          "output_type": "execute_result",
          "data": {
            "text/plain": [
              "array([[0., 0., 0., 0., 0., 0., 0., 0., 0., 1.],\n",
              "       [0., 0., 1., 0., 0., 0., 0., 0., 0., 0.],\n",
              "       [0., 1., 0., 0., 0., 0., 0., 0., 0., 0.]], dtype=float32)"
            ]
          },
          "metadata": {
            "tags": []
          },
          "execution_count": 20
        }
      ]
    },
    {
      "cell_type": "code",
      "metadata": {
        "colab": {
          "base_uri": "https://localhost:8080/"
        },
        "id": "_ggOF5ZRPcS7",
        "outputId": "cd50f7ca-9219-4b0e-ad27-9360c9b38801"
      },
      "source": [
        "# Predictions\r\n",
        "y_pred = model.predict_classes(x_new)\r\n",
        "y_pred"
      ],
      "execution_count": 21,
      "outputs": [
        {
          "output_type": "stream",
          "text": [
            "/usr/local/lib/python3.7/dist-packages/tensorflow/python/keras/engine/sequential.py:450: UserWarning: `model.predict_classes()` is deprecated and will be removed after 2021-01-01. Please use instead:* `np.argmax(model.predict(x), axis=-1)`,   if your model does multi-class classification   (e.g. if it uses a `softmax` last-layer activation).* `(model.predict(x) > 0.5).astype(\"int32\")`,   if your model does binary classification   (e.g. if it uses a `sigmoid` last-layer activation).\n",
            "  warnings.warn('`model.predict_classes()` is deprecated and '\n"
          ],
          "name": "stderr"
        },
        {
          "output_type": "execute_result",
          "data": {
            "text/plain": [
              "array([9, 2, 1])"
            ]
          },
          "metadata": {
            "tags": []
          },
          "execution_count": 21
        }
      ]
    },
    {
      "cell_type": "code",
      "metadata": {
        "colab": {
          "base_uri": "https://localhost:8080/"
        },
        "id": "3FtkR9I0QcKR",
        "outputId": "d2e66664-eb2e-48ca-d550-552e82305cba"
      },
      "source": [
        "# Class names\r\n",
        "np.array(class_names)[y_pred]"
      ],
      "execution_count": 22,
      "outputs": [
        {
          "output_type": "execute_result",
          "data": {
            "text/plain": [
              "array(['Ankle boot', 'Pullover', 'Trouser'], dtype='<U11')"
            ]
          },
          "metadata": {
            "tags": []
          },
          "execution_count": 22
        }
      ]
    },
    {
      "cell_type": "code",
      "metadata": {
        "colab": {
          "base_uri": "https://localhost:8080/"
        },
        "id": "DWJ2V3SwQhzC",
        "outputId": "2bd8a4fb-b829-4396-dbba-4c3a59411a52"
      },
      "source": [
        "# Actual values\r\n",
        "y_new = y_test[:3]\r\n",
        "y_new"
      ],
      "execution_count": 23,
      "outputs": [
        {
          "output_type": "execute_result",
          "data": {
            "text/plain": [
              "array([9, 2, 1], dtype=uint8)"
            ]
          },
          "metadata": {
            "tags": []
          },
          "execution_count": 23
        }
      ]
    },
    {
      "cell_type": "markdown",
      "metadata": {
        "id": "Y92wVkyzQyZk"
      },
      "source": [
        "### As the values are matching hence the model made the correct predictions"
      ]
    }
  ]
}